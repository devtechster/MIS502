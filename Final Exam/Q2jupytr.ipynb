{
 "cells": [
  {
   "cell_type": "code",
   "execution_count": 1,
   "id": "bde650d6",
   "metadata": {},
   "outputs": [],
   "source": [
    "import pandas as pd\n",
    "import matplotlib.pyplot as plt"
   ]
  },
  {
   "cell_type": "code",
   "execution_count": 2,
   "id": "7cbd8080",
   "metadata": {},
   "outputs": [],
   "source": [
    "desired_width = 320\n",
    "pd.set_option('display.width', desired_width)\n",
    "pd.set_option('display.max_columns', 10)\n",
    "df = pd.read_csv('SchData2013.csv', low_memory=False)"
   ]
  },
  {
   "cell_type": "code",
   "execution_count": 3,
   "id": "cdc59f94",
   "metadata": {},
   "outputs": [
    {
     "name": "stdout",
     "output_type": "stream",
     "text": [
      "(33173, 28)\n",
      "<class 'pandas.core.frame.DataFrame'>\n",
      "RangeIndex: 33173 entries, 0 to 33172\n",
      "Data columns (total 28 columns):\n",
      " #   Column                          Non-Null Count  Dtype  \n",
      "---  ------                          --------------  -----  \n",
      " 0   FY                              33173 non-null  object \n",
      " 1   SurgicalArea                    33173 non-null  object \n",
      " 2   OperatingRoom                   33173 non-null  object \n",
      " 3   ORCaseNumber                    33173 non-null  object \n",
      " 4   SurgicalSpecialty               33173 non-null  object \n",
      " 5   SSSNo                           33173 non-null  int64  \n",
      " 6   PatientType                     33173 non-null  int64  \n",
      " 7   SchedulePriority                33173 non-null  int64  \n",
      " 8   AddOnIndicator                  33173 non-null  object \n",
      " 9   CaseDOW                         33173 non-null  object \n",
      " 10  CaseMonth                       0 non-null      float64\n",
      " 11  PrimaryProcedure                33173 non-null  object \n",
      " 12  ScheduledStartDate_Time         33173 non-null  object \n",
      " 13  CaseStartDate_Time              33173 non-null  object \n",
      " 14  CaseCreateDate_Time             33173 non-null  object \n",
      " 15  CaseLevel                       33173 non-null  int64  \n",
      " 16  ASA_Class                       33173 non-null  object \n",
      " 17  PatientAge                      33173 non-null  int64  \n",
      " 18  PreopDiagnosis                  33173 non-null  object \n",
      " 19  ScheduledCaseDuration           33173 non-null  int64  \n",
      " 20  PrimaryProcedureSurgeonComment  33173 non-null  object \n",
      " 21  TotalSurgeryMin                 33173 non-null  int64  \n",
      " 22  PatientInRoomMin                33173 non-null  int64  \n",
      " 23  SetUpMin                        33173 non-null  int64  \n",
      " 24  CleanUpMin                      33173 non-null  int64  \n",
      " 25  SchCreateDays                   33173 non-null  float64\n",
      " 26  RoomNo                          33173 non-null  object \n",
      " 27  OTS                             33173 non-null  int64  \n",
      "dtypes: float64(2), int64(11), object(15)\n",
      "memory usage: 7.1+ MB\n",
      "None\n",
      "              SSSNo   PatientType  SchedulePriority  CaseMonth     CaseLevel  ...  PatientInRoomMin      SetUpMin    CleanUpMin  SchCreateDays           OTS\n",
      "count  33173.000000  33173.000000      33173.000000        0.0  33173.000000  ...      33173.000000  33173.000000  33173.000000   33173.000000  33173.000000\n",
      "mean       7.721129      1.421940          1.960450        NaN      2.963253  ...        150.605523     30.173967     12.481235      10.808039      0.296175\n",
      "std        4.300396      0.512332          0.194903        NaN      1.661193  ...        117.708167     30.992437     14.366459      16.022238      0.456576\n",
      "min        1.000000      0.000000          1.000000        NaN      0.000000  ...          0.000000      0.000000      0.000000       0.000000      0.000000\n",
      "25%        4.000000      1.000000          2.000000        NaN      2.000000  ...         72.000000     20.000000     10.000000       0.903500      0.000000\n",
      "50%        8.000000      1.000000          2.000000        NaN      3.000000  ...        121.000000     25.000000     10.000000       4.877100      0.000000\n",
      "75%       11.000000      2.000000          2.000000        NaN      4.000000  ...        195.000000     36.000000     15.000000      14.684000      1.000000\n",
      "max       18.000000      2.000000          2.000000        NaN      9.000000  ...       1536.000000   1490.000000   1467.000000     317.906300      1.000000\n",
      "\n",
      "[8 rows x 13 columns]\n"
     ]
    }
   ],
   "source": [
    "print(df.shape)\n",
    "print(df.info())\n",
    "print(df.describe())"
   ]
  },
  {
   "cell_type": "code",
   "execution_count": 4,
   "id": "4e981191",
   "metadata": {},
   "outputs": [
    {
     "name": "stderr",
     "output_type": "stream",
     "text": [
      "C:\\Users\\adhir\\AppData\\Local\\Temp\\ipykernel_8136\\2417231367.py:3: FutureWarning: Dropping of nuisance columns in DataFrame reductions (with 'numeric_only=None') is deprecated; in a future version this will raise TypeError.  Select only valid columns before calling the reduction.\n",
      "  df[int64_columns] = df[int64_columns].fillna(df.mean())\n"
     ]
    },
    {
     "name": "stdout",
     "output_type": "stream",
     "text": [
      "0\n",
      "0\n"
     ]
    },
    {
     "name": "stderr",
     "output_type": "stream",
     "text": [
      "C:\\Users\\adhir\\AppData\\Local\\Temp\\ipykernel_8136\\2417231367.py:7: FutureWarning: Dropping of nuisance columns in DataFrame reductions (with 'numeric_only=None') is deprecated; in a future version this will raise TypeError.  Select only valid columns before calling the reduction.\n",
      "  df[float64_columns] = df[float64_columns].fillna(df.mean())\n"
     ]
    }
   ],
   "source": [
    "# Fill missing values in int64 columns with the mean value for that column\n",
    "int64_columns = df.select_dtypes(include=['int64']).columns\n",
    "df[int64_columns] = df[int64_columns].fillna(df.mean())\n",
    "\n",
    "# Fill missing values in float64 columns with the mean value for that column\n",
    "float64_columns = df.select_dtypes(include=['float64']).columns\n",
    "df[float64_columns] = df[float64_columns].fillna(df.mean())\n",
    "\n",
    "print(df['PatientInRoomMin'].isnull().sum())\n",
    "print(df['SchCreateDays'].isnull().sum())\n"
   ]
  },
  {
   "cell_type": "code",
   "execution_count": 7,
   "id": "311fd0a5",
   "metadata": {},
   "outputs": [
    {
     "name": "stdout",
     "output_type": "stream",
     "text": [
      "<class 'pandas.core.frame.DataFrame'>\n",
      "RangeIndex: 33173 entries, 0 to 33172\n",
      "Data columns (total 12 columns):\n",
      " #   Column                 Non-Null Count  Dtype  \n",
      "---  ------                 --------------  -----  \n",
      " 0   SSSNo                  33173 non-null  int64  \n",
      " 1   PatientType            33173 non-null  int64  \n",
      " 2   SchedulePriority       33173 non-null  int64  \n",
      " 3   CaseLevel              33173 non-null  int64  \n",
      " 4   PatientAge             33173 non-null  int64  \n",
      " 5   ScheduledCaseDuration  33173 non-null  int64  \n",
      " 6   TotalSurgeryMin        33173 non-null  int64  \n",
      " 7   PatientInRoomMin       33173 non-null  int64  \n",
      " 8   SetUpMin               33173 non-null  int64  \n",
      " 9   CleanUpMin             33173 non-null  int64  \n",
      " 10  SchCreateDays          33173 non-null  float64\n",
      " 11  OTS                    33173 non-null  int64  \n",
      "dtypes: float64(1), int64(11)\n",
      "memory usage: 3.0 MB\n",
      "None\n"
     ]
    }
   ],
   "source": [
    "df = df.drop('CaseMonth', axis=1)\n",
    "df = df.dropna()\n",
    "cat_cols = [col for col in df.columns if df[col].dtype == 'object']\n",
    "df = df.drop(cat_cols, axis=1)\n",
    "df = df.reset_index(drop=True)\n",
    "print(df.info())"
   ]
  },
  {
   "cell_type": "code",
   "execution_count": 5,
   "id": "183ef6e9",
   "metadata": {},
   "outputs": [
    {
     "name": "stdout",
     "output_type": "stream",
     "text": [
      "        FY SurgicalArea OperatingRoom   ORCaseNumber SurgicalSpecialty  ...  SetUpMin  CleanUpMin  SchCreateDays RoomNo OTS\n",
      "632   FY13         HHOR      HH OR 02  HH-2012-11642             ORTHO  ...        50          20        32.0819      2   1\n",
      "1126  FY13         HHOR      HH OR 02   HH-2012-9355             ORTHO  ...        40          10         6.5986      2   0\n",
      "1268  FY13         HHOR      HH OR 06   HH-2013-2106             ORTHO  ...        60           0         3.9076      6   1\n",
      "1479  FY13         HHOR      HH OR 10   HH-2013-5954           ORT/TRA  ...        30          14        19.8743     10   0\n",
      "2052  FY13         HHOR      HH OR 02   HH-2013-7917             ORTHO  ...        30           9         1.7861      2   1\n",
      "2053  FY13         HHOR      HH OR 02   HH-2013-9049             ORTHO  ...        25          33         4.7083      2   0\n",
      "2121  FY13         HHOR      HH OR 02  HH-2012-11430             ORTHO  ...        30          10        15.8146      2   0\n",
      "2125  FY13         HHOR      HH OR 14   HH-2013-4534           ORT/TRA  ...        25           9        18.7250     14   0\n",
      "2168  FY13         HHOR      HH OR 02   HH-2012-8981             ORTHO  ...        50          20         0.6778      2   1\n",
      "2241  FY13         HHOR      HH OR 01   HH-2013-3250             ORTHO  ...        19          10         0.8951      1   1\n",
      "\n",
      "[10 rows x 28 columns]\n",
      "Mean of PatientInRoomMin: 113.67\n",
      "Median of PatientInRoomMin: 103.50\n"
     ]
    }
   ],
   "source": [
    "diced_df = df[(df[\"SurgicalArea\"] == \"HHOR\") & (df[\"SSSNo\"] == 9) & (df[\"PatientType\"] == 2)]\n",
    "\n",
    "# calculate the mean and median of PatientInRoomMin for the diced dataframe\n",
    "mean = diced_df[\"PatientInRoomMin\"].mean()\n",
    "median = diced_df[\"PatientInRoomMin\"].median()\n",
    "\n",
    "print(diced_df.head(10))\n",
    "print(\"Mean of PatientInRoomMin: {:.2f}\".format(mean))\n",
    "print(\"Median of PatientInRoomMin: {:.2f}\".format(median))"
   ]
  },
  {
   "cell_type": "code",
   "execution_count": 6,
   "id": "b9f480c8",
   "metadata": {},
   "outputs": [
    {
     "data": {
      "image/png": "[encoded data removed]",
      "text/plain": [
       "<Figure size 640x480 with 1 Axes>"
      ]
     },
     "metadata": {},
     "output_type": "display_data"
    },
    {
     "data": {
      "image/png": "[encoded data removed]",
      "text/plain": [
       "<Figure size 640x480 with 1 Axes>"
      ]
     },
     "metadata": {},
     "output_type": "display_data"
    }
   ],
   "source": [
    "# create a boxplot for PatientInRoomMin\n",
    "diced_df.boxplot(column=[\"PatientInRoomMin\"])\n",
    "plt.show()\n",
    "\n",
    "# calculate the IQR and remove outliers\n",
    "Q1 = diced_df[\"PatientInRoomMin\"].quantile(0.25)\n",
    "Q3 = diced_df[\"PatientInRoomMin\"].quantile(0.75)\n",
    "IQR = Q3 - Q1\n",
    "lower_bound = Q1 - 1.5*IQR\n",
    "upper_bound = Q3 + 1.5*IQR\n",
    "diced_df = diced_df[(diced_df[\"PatientInRoomMin\"] >= lower_bound) & (diced_df[\"PatientInRoomMin\"] <= upper_bound)]\n",
    "\n",
    "# create a boxplot for PatientInRoomMin after removing outliers\n",
    "diced_df.boxplot(column=[\"PatientInRoomMin\"])\n",
    "plt.show()"
   ]
  },
  {
   "cell_type": "code",
   "execution_count": null,
   "id": "ab6d1a38",
   "metadata": {},
   "outputs": [],
   "source": []
  }
 ],
 "metadata": {
  "kernelspec": {
   "display_name": "Python 3 (ipykernel)",
   "language": "python",
   "name": "python3"
  },
  "language_info": {
   "codemirror_mode": {
    "name": "ipython",
    "version": 3
   },
   "file_extension": ".py",
   "mimetype": "text/x-python",
   "name": "python",
   "nbconvert_exporter": "python",
   "pygments_lexer": "ipython3",
   "version": "3.9.13"
  }
 },
 "nbformat": 4,
 "nbformat_minor": 5
}
