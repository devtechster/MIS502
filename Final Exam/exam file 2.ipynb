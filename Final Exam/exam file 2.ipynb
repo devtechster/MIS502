{
 "cells": [
  {
   "cell_type": "code",
   "execution_count": null,
   "id": "5fbc65ed",
   "metadata": {},
   "outputs": [],
   "source": [
    "import pandas as pd\n",
    "import seaborn as sns\n",
    "import matplotlib.pyplot as plt\n",
    "\n",
    "df = pd.read_csv('SchData2013.csv', low_memory=False)\n",
    "\n",
    "# create a scatter plot of TotalSurgeryMin vs. PatientInRoomMin\n",
    "print('-------------------')\n",
    "df.plot(kind='scatter', x='TotalSurgeryMin', y='PatientInRoomMin', alpha=0.5)\n",
    "plt.xlabel('Total Surgery Time (min)')\n",
    "plt.ylabel('Patient In Room Time (min)')\n",
    "plt.title('Relationship Between Total Surgery Time and Patient In Room Time')\n",
    "plt.show()"
   ]
  },
  {
   "cell_type": "code",
   "execution_count": null,
   "id": "9efb7ced",
   "metadata": {},
   "outputs": [],
   "source": [
    "print('-------------------')\n",
    "df['CaseLevel'].value_counts().plot(kind='hist')\n",
    "plt.xlabel('CaseLevel')\n",
    "plt.ylabel('CaseMonth')\n",
    "plt.title('CaseLevel vs CaseMonth')\n",
    "plt.show()\n",
    "\n"
   ]
  },
  {
   "cell_type": "code",
   "execution_count": null,
   "id": "1d0bbe9e",
   "metadata": {},
   "outputs": [],
   "source": []
  }
 ],
 "metadata": {
  "kernelspec": {
   "display_name": "Python 3 (ipykernel)",
   "language": "python",
   "name": "python3"
  },
  "language_info": {
   "codemirror_mode": {
    "name": "ipython",
    "version": 3
   },
   "file_extension": ".py",
   "mimetype": "text/x-python",
   "name": "python",
   "nbconvert_exporter": "python",
   "pygments_lexer": "ipython3",
   "version": "3.9.13"
  }
 },
 "nbformat": 4,
 "nbformat_minor": 5
}
