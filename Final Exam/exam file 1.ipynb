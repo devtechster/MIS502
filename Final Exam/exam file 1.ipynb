{
 "cells": [
  {
   "cell_type": "code",
   "execution_count": null,
   "id": "98d5ddef",
   "metadata": {},
   "outputs": [],
   "source": [
    "import pandas as pd\n",
    "import matplotlib.pyplot as plt\n",
    "from sklearn.model_selection import train_test_split\n",
    "from sklearn.linear_model import LinearRegression\n",
    "from sklearn.metrics import r2_score, mean_absolute_error, mean_squared_error\n",
    "\n",
    "desired_width = 320\n",
    "pd.set_option('display.width', desired_width)\n",
    "pd.set_option('display.max_columns', 18)\n",
    "df = pd.read_csv('SchData2013.csv', low_memory=False)\n",
    "print(df.info())\n",
    "\n",
    "# Identify int64 and float64 variables\n",
    "int_vars = df.select_dtypes(include=['int64']).columns\n",
    "float_vars = df.select_dtypes(include=['float64']).columns\n",
    "print('Int Variables:', int_vars)\n",
    "print('Float Variables:', float_vars)\n",
    "\n",
    "# Identify all numeric columns\n",
    "numeric_cols = df.select_dtypes(include=['int64', 'float64']).columns\n",
    "#AND\n",
    "# Replace missing values with column mean\n",
    "df[numeric_cols] = df[numeric_cols].fillna(df[numeric_cols].mean())\n",
    "\n",
    "#verifying if there is no null values in any columns\n",
    "print(df.columns.isnull().sum())\n",
    "\n",
    "# Slice X\n",
    "X = df.loc[:, ['SSSNo', 'PatientType', 'SchedulePriority', 'PatientAge', 'ScheduledCaseDuration', 'TotalSurgeryMin', 'PatientInRoomMin', 'SetUpMin']]\n",
    "\n",
    "# Slice y\n",
    "y = df.loc[:, ['SchCreateDays']]\n",
    "\n",
    "# Split X and y into training and test data subsets\n",
    "X_train, X_test, y_train, y_test = train_test_split(X, y, test_size=0.2, random_state=42)\n",
    "\n",
    "# Fit a linear regression model on the training data\n",
    "reg = LinearRegression().fit(X_train, y_train)\n",
    "\n",
    "# Predict y values for test data\n",
    "y_pred = reg.predict(X_test)\n",
    "\n",
    "# Calculate the R2 score, MAE, MSE, and RMSE\n",
    "r2 = r2_score(y_test, y_pred)\n",
    "mae = mean_absolute_error(y_test, y_pred)\n",
    "mse = mean_squared_error(y_test, y_pred)\n",
    "rmse = mean_squared_error(y_test, y_pred, squared=False)\n",
    "\n",
    "print(\"R2 Score:\", r2)\n",
    "print(\"Mean Absolute Error (MAE):\", mae)\n",
    "print(\"Mean Squared Error (MSE):\", mse)\n",
    "print(\"Root Mean Squared Error (RMSE):\", rmse)\n",
    "\n"
   ]
  },
  {
   "cell_type": "code",
   "execution_count": null,
   "id": "729e72ff",
   "metadata": {},
   "outputs": [],
   "source": [
    "# Scatterplot of X variables and y\n",
    "for col in X.columns:\n",
    "    fig, ax = plt.subplots()\n",
    "    ax.scatter(X_test[col], y_test)\n",
    "    ax.set_xlabel(col)\n",
    "    ax.set_ylabel('SchCreateDays')\n",
    "    plt.show()"
   ]
  },
  {
   "cell_type": "code",
   "execution_count": null,
   "id": "6b260232",
   "metadata": {},
   "outputs": [],
   "source": []
  }
 ],
 "metadata": {
  "kernelspec": {
   "display_name": "Python 3 (ipykernel)",
   "language": "python",
   "name": "python3"
  },
  "language_info": {
   "codemirror_mode": {
    "name": "ipython",
    "version": 3
   },
   "file_extension": ".py",
   "mimetype": "text/x-python",
   "name": "python",
   "nbconvert_exporter": "python",
   "pygments_lexer": "ipython3",
   "version": "3.9.13"
  }
 },
 "nbformat": 4,
 "nbformat_minor": 5
}
