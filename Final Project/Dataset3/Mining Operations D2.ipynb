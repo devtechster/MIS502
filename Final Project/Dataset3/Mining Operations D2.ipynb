{
 "cells": [
  {
   "cell_type": "code",
   "execution_count": 2,
   "id": "13d00b81",
   "metadata": {},
   "outputs": [
    {
     "ename": "SyntaxError",
     "evalue": "EOL while scanning string literal (1692115181.py, line 9)",
     "output_type": "error",
     "traceback": [
      "\u001b[1;36m  File \u001b[1;32m\"C:\\Users\\adhir\\AppData\\Local\\Temp\\ipykernel_22016\\1692115181.py\"\u001b[1;36m, line \u001b[1;32m9\u001b[0m\n\u001b[1;33m    df = pd.read_csv(r'combinedData.csv', low_memory=False')    # reads Zillow file\u001b[0m\n\u001b[1;37m                                                                                   ^\u001b[0m\n\u001b[1;31mSyntaxError\u001b[0m\u001b[1;31m:\u001b[0m EOL while scanning string literal\n"
     ]
    }
   ],
   "source": [
    "import pandas as pd\n",
    "import numpy as np\n",
    "import seaborn as sns\n",
    "import matplotlib.pyplot as plt\n",
    "from sklearn.cluster import KMeans\n",
    "desired_width = 400\n",
    "pd.set_option('display.width', desired_width)         # sets run screen width to 400\n",
    "pd.set_option('display.max_columns', 20)              # sets run screen column display to 20\n",
    "df = pd.read_csv(r'combinedData.csv', low_memory=False')    # reads Zillow file\n"
   ]
  },
  {
   "cell_type": "code",
   "execution_count": null,
   "id": "a7f6d213",
   "metadata": {},
   "outputs": [],
   "source": [
    "df2 = df[['age', 'rating', 'rooms', 'gender', 'genres']]   # reduced df\n",
    "df2.fillna(0, inplace=True)       # replaces the NaN in priorSaleAmount with 0 -- may get a warning, but better than NaN\n",
    "print(df2.head(2))                                        # prints top two rows of df3\n",
    "\n"
   ]
  },
  {
   "cell_type": "code",
   "execution_count": null,
   "id": "e36aacac",
   "metadata": {},
   "outputs": [],
   "source": [
    "k_groups = KMeans(n_clusters=5, random_state=0).fit(df3)  # separates data set into 5 distinguishable groups\n",
    "print(k_groups.labels_)                                   # displays k_groups' label (0 to 4) for each row\n",
    "print(len(k_groups.labels_),df3.shape)                    # displays rows in k_groups as well as rows, columns in df3\n",
    "print(k_groups.cluster_centers_)         # displays averages of the seven columns for each cluster centroid [0, 1, 2, 3, 4]\n",
    "print(k_groups.cluster_centers_[0])       # displays averages for each of the seven columns in the cluster centroid [0]\n",
    "df3['cluster'] = k_groups.labels_                         # add a new column to df3 called 'cluster', the k-group #\n",
    "print(df3.head(3))                                        # display the top three rows of data frame df3\n",
    "print(df3.groupby('cluster').min())                      # display the means of the seven columns of data frame df3\n",
    "from sklearn.metrics import silhouette_score              # coefficient score where higher is better, 0 = cluster overlap\n",
    "df4 = df3.drop('cluster', axis = 1)                       # create a new data frame df4 that dropped the cluster column\n",
    "# for loop to determine optimum K groups\n",
    "for i in range(3, 10):                                    # for loop to determine best number of K clusters between 3 and 10\n",
    "    k_groups = KMeans(n_clusters = i).fit(df4)            # K clusters must have atleast 2 clusters\n",
    "    labels = k_groups.labels_\n",
    "    print('K Groups = ', i, 'Silhouette Coeffient = ', silhouette_score(df4, labels))  # displays i and coefficient\n",
    "# End of Data Mining - Cluster Analysis\n"
   ]
  }
 ],
 "metadata": {
  "kernelspec": {
   "display_name": "Python 3 (ipykernel)",
   "language": "python",
   "name": "python3"
  },
  "language_info": {
   "codemirror_mode": {
    "name": "ipython",
    "version": 3
   },
   "file_extension": ".py",
   "mimetype": "text/x-python",
   "name": "python",
   "nbconvert_exporter": "python",
   "pygments_lexer": "ipython3",
   "version": "3.9.13"
  }
 },
 "nbformat": 4,
 "nbformat_minor": 5
}
